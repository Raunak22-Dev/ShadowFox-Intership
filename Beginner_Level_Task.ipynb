{
  "nbformat": 4,
  "nbformat_minor": 0,
  "metadata": {
    "colab": {
      "provenance": [],
      "authorship_tag": "ABX9TyNrA9Yj6olxnqzrdX2/oi9K",
      "include_colab_link": true
    },
    "kernelspec": {
      "name": "python3",
      "display_name": "Python 3"
    },
    "language_info": {
      "name": "python"
    }
  },
  "cells": [
    {
      "cell_type": "markdown",
      "metadata": {
        "id": "view-in-github",
        "colab_type": "text"
      },
      "source": [
        "<a href=\"https://colab.research.google.com/github/Raunak22-Dev/ShadowFox-Intership/blob/main/Beginner_Level_Task.ipynb\" target=\"_parent\"><img src=\"https://colab.research.google.com/assets/colab-badge.svg\" alt=\"Open In Colab\"/></a>"
      ]
    },
    {
      "cell_type": "code",
      "source": [
        "!pip install -q xgboost lightgbm openml\n",
        "\n",
        "import numpy as np\n",
        "import pandas as pd\n",
        "import matplotlib.pyplot as plt\n",
        "\n",
        "from sklearn.model_selection import train_test_split\n",
        "from sklearn.preprocessing import StandardScaler\n",
        "from sklearn.linear_model import LinearRegression\n",
        "from sklearn.ensemble import RandomForestRegressor\n",
        "from sklearn.metrics import mean_squared_error, mean_absolute_error, r2_score\n",
        "\n",
        "import xgboost as xgb\n",
        "import lightgbm as lgb\n",
        "import openml\n",
        "\n",
        "# Load Boston housing dataset from OpenML\n",
        "dataset = openml.datasets.get_dataset(531)\n",
        "df, *_ = dataset.get_data()\n",
        "\n",
        "\n",
        "print(df.head())\n",
        "\n",
        "# Feature and target split\n",
        "X = df.drop('MEDV', axis=1)\n",
        "y = df['MEDV']\n",
        "\n",
        "# Train-test split\n",
        "X_train, X_test, y_train, y_test = train_test_split(X, y, test_size=0.2, random_state=42)\n",
        "\n",
        "# Scale features\n",
        "scaler = StandardScaler()\n",
        "X_train = scaler.fit_transform(X_train)\n",
        "X_test = scaler.transform(X_test)\n",
        "\n",
        "# Define models\n",
        "models = {\n",
        "    \"Linear Regression\": LinearRegression(),\n",
        "    \"Random Forest\": RandomForestRegressor(random_state=42),\n",
        "    \"XGBoost\": xgb.XGBRegressor(random_state=42),\n",
        "    \"LightGBM\": lgb.LGBMRegressor(verbose=-1, random_state=42)\n",
        "}\n",
        "\n",
        "# Train and evaluate models\n",
        "results = {}\n",
        "\n",
        "for name, model in models.items():\n",
        "    model.fit(X_train, y_train)\n",
        "    preds = model.predict(X_test)\n",
        "    results[name] = {\n",
        "        \"MSE\": mean_squared_error(y_test, preds),\n",
        "        \"MAE\": mean_absolute_error(y_test, preds),\n",
        "        \"R2\": r2_score(y_test, preds)\n",
        "    }\n",
        "\n",
        "# Show results\n",
        "for name, metrics in results.items():\n",
        "    print(f\"\\n{name} Results:\")\n",
        "    print(f\"  Mean Squared Error: {metrics['MSE']:.2f}\")\n",
        "    print(f\"  Mean Absolute Error: {metrics['MAE']:.2f}\")\n",
        "    print(f\"  R-squared: {metrics['R2']:.4f}\")\n",
        "\n",
        "# Identify best model by R2\n",
        "best_model = max(results, key=lambda x: results[x][\"R2\"])\n",
        "print(f\"\\n✅ Best model based on R-squared: {best_model}\")\n"
      ],
      "metadata": {
        "colab": {
          "base_uri": "https://localhost:8080/"
        },
        "id": "C8OTPfNcT755",
        "outputId": "fe1f0177-f055-4083-b014-b05bebb1a3a4"
      },
      "execution_count": null,
      "outputs": [
        {
          "output_type": "stream",
          "name": "stdout",
          "text": [
            "      CRIM    ZN  INDUS CHAS    NOX     RM   AGE     DIS RAD    TAX  PTRATIO  \\\n",
            "0  0.00632  18.0   2.31    0  0.538  6.575  65.2  4.0900   1  296.0     15.3   \n",
            "1  0.02731   0.0   7.07    0  0.469  6.421  78.9  4.9671   2  242.0     17.8   \n",
            "2  0.02729   0.0   7.07    0  0.469  7.185  61.1  4.9671   2  242.0     17.8   \n",
            "3  0.03237   0.0   2.18    0  0.458  6.998  45.8  6.0622   3  222.0     18.7   \n",
            "4  0.06905   0.0   2.18    0  0.458  7.147  54.2  6.0622   3  222.0     18.7   \n",
            "\n",
            "        B  LSTAT  MEDV  \n",
            "0  396.90   4.98  24.0  \n",
            "1  396.90   9.14  21.6  \n",
            "2  392.83   4.03  34.7  \n",
            "3  394.63   2.94  33.4  \n",
            "4  396.90   5.33  36.2  \n",
            "\n",
            "Linear Regression Results:\n",
            "  Mean Squared Error: 24.29\n",
            "  Mean Absolute Error: 3.19\n",
            "  R-squared: 0.6688\n",
            "\n",
            "Random Forest Results:\n",
            "  Mean Squared Error: 7.91\n",
            "  Mean Absolute Error: 2.04\n",
            "  R-squared: 0.8921\n",
            "\n",
            "XGBoost Results:\n",
            "  Mean Squared Error: 6.91\n",
            "  Mean Absolute Error: 1.89\n",
            "  R-squared: 0.9058\n",
            "\n",
            "LightGBM Results:\n",
            "  Mean Squared Error: 8.00\n",
            "  Mean Absolute Error: 1.94\n",
            "  R-squared: 0.8910\n",
            "\n",
            "✅ Best model based on R-squared: XGBoost\n"
          ]
        }
      ]
    },
    {
      "cell_type": "code",
      "source": [
        "# Predict the model with new data\n",
        "new_sample = pd.DataFrame([{\n",
        "    'CRIM': 0.05,\n",
        "    'ZN': 18.0,\n",
        "    'INDUS': 2.31,\n",
        "    'CHAS': 0,\n",
        "    'NOX': 0.538,\n",
        "    'RM': 6.575,\n",
        "    'AGE': 65.2,\n",
        "    'DIS': 4.09,\n",
        "    'RAD': 1.0,\n",
        "    'TAX': 296.0,\n",
        "    'PTRATIO': 15.3,\n",
        "    'B': 396.9,\n",
        "    'LSTAT': 4.98\n",
        "}])\n",
        "\n",
        "# Scale the sample input using the same scaler\n",
        "new_sample_scaled = scaler.transform(new_sample)\n",
        "\n",
        "# Predict using the best trained model\n",
        "predicted_price = models[best_model].predict(new_sample_scaled)\n",
        "\n",
        "# Display the predicted house price\n",
        "print(f\"\\n Predicted House Price (MEDV): ${predicted_price[0]:.2f} (in 1000s of USD)\")"
      ],
      "metadata": {
        "colab": {
          "base_uri": "https://localhost:8080/"
        },
        "id": "oU1hIT7WaifM",
        "outputId": "0853dbb6-a862-40f3-e676-63376143c037"
      },
      "execution_count": null,
      "outputs": [
        {
          "output_type": "stream",
          "name": "stdout",
          "text": [
            "\n",
            " Predicted House Price (MEDV): $26.46 (in 1000s of USD)\n"
          ]
        }
      ]
    }
  ]
}